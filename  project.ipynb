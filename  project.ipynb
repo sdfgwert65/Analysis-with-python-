{
 "cells": [
  {
   "cell_type": "code",
   "execution_count": null,
   "id": "0e6acbb0-1230-43eb-9dea-8338e33d33b5",
   "metadata": {},
   "outputs": [],
   "source": []
  }
 ],
 "metadata": {
  "kernelspec": {
   "display_name": "",
   "name": ""
  },
  "language_info": {
   "name": ""
  }
 },
 "nbformat": 4,
 "nbformat_minor": 5
}
